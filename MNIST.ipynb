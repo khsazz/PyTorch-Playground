{
 "cells": [
  {
   "metadata": {},
   "cell_type": "markdown",
   "source": "### IMPORTS",
   "id": "757deb49f9b2fc84"
  },
  {
   "metadata": {
    "ExecuteTime": {
     "end_time": "2024-09-16T19:39:49.191486Z",
     "start_time": "2024-09-16T19:39:49.185603Z"
    }
   },
   "cell_type": "code",
   "source": [
    "import torch\n",
    "import torchvision\n",
    "import matplotlib.pyplot as plt\n",
    "import torch.nn as nn\n",
    "import torch.nn.functional as F\n",
    "import torch.optim as optim"
   ],
   "id": "fd0362dfe208e919",
   "outputs": [],
   "execution_count": 28
  },
  {
   "metadata": {},
   "cell_type": "markdown",
   "source": "#### HYPER PARAMS",
   "id": "1c97082ee261359e"
  },
  {
   "metadata": {
    "ExecuteTime": {
     "end_time": "2024-09-16T19:39:49.270242Z",
     "start_time": "2024-09-16T19:39:49.251205Z"
    }
   },
   "cell_type": "code",
   "source": [
    "n_epochs = 3\n",
    "batch_size_train = 64\n",
    "batch_size_test = 1000\n",
    "learning_rate = 0.01\n",
    "momentum = 0.5\n",
    "log_interval = 64\n",
    "\n",
    "random_seed = 1\n",
    "torch.backends.cudnn.enabled = False\n",
    "torch.manual_seed(random_seed)"
   ],
   "id": "c8866a3ae5979f85",
   "outputs": [
    {
     "data": {
      "text/plain": [
       "<torch._C.Generator at 0x7ff354151bd0>"
      ]
     },
     "execution_count": 29,
     "metadata": {},
     "output_type": "execute_result"
    }
   ],
   "execution_count": 29
  },
  {
   "metadata": {},
   "cell_type": "markdown",
   "source": "#### DATASET",
   "id": "c1a597e2f92c8028"
  },
  {
   "metadata": {
    "ExecuteTime": {
     "end_time": "2024-09-16T19:39:49.823364Z",
     "start_time": "2024-09-16T19:39:49.291436Z"
    }
   },
   "cell_type": "code",
   "source": [
    "train_loader = torch.utils.data.DataLoader(\n",
    "\ttorchvision.datasets.MNIST('./data/', train=True, download=True,\n",
    "\t                           transform=torchvision.transforms.Compose([\n",
    "\t\t                           torchvision.transforms.ToTensor(),\n",
    "\t\t                           torchvision.transforms.Normalize(\n",
    "\t\t\t                           (0.1307,), (0.3081,))\n",
    "\t                           ])),\n",
    "\tbatch_size=batch_size_train, shuffle=True)\n",
    "\n",
    "test_loader = torch.utils.data.DataLoader(\n",
    "\ttorchvision.datasets.MNIST('./data/', train=False, download=True,\n",
    "\t                           transform=torchvision.transforms.Compose([\n",
    "\t\t                           torchvision.transforms.ToTensor(),\n",
    "\t\t                           torchvision.transforms.Normalize(\n",
    "\t\t\t                           (0.1307,), (0.3081,))\n",
    "\t                           ])),\n",
    "\tbatch_size=batch_size_test, shuffle=True)"
   ],
   "id": "60ea5a7af2d073d9",
   "outputs": [],
   "execution_count": 30
  },
  {
   "metadata": {},
   "cell_type": "markdown",
   "source": "#### Peeking the DATASET",
   "id": "ca90adba845e85f2"
  },
  {
   "metadata": {
    "ExecuteTime": {
     "end_time": "2024-09-16T19:39:50.360978Z",
     "start_time": "2024-09-16T19:39:49.865536Z"
    }
   },
   "cell_type": "code",
   "source": [
    "examples = enumerate(test_loader)\n",
    "batch_idx, (example_data, example_targets) = next(examples)\n",
    "example_data.shape"
   ],
   "id": "4cdbe7db0e00e5b8",
   "outputs": [
    {
     "data": {
      "text/plain": [
       "torch.Size([1000, 1, 28, 28])"
      ]
     },
     "execution_count": 31,
     "metadata": {},
     "output_type": "execute_result"
    }
   ],
   "execution_count": 31
  },
  {
   "metadata": {},
   "cell_type": "markdown",
   "source": "#### PLOTTING SOME DATA FOR VISUALIZATION",
   "id": "e740854265dcae2d"
  },
  {
   "metadata": {
    "ExecuteTime": {
     "end_time": "2024-09-16T19:39:51.595014Z",
     "start_time": "2024-09-16T19:39:50.401322Z"
    }
   },
   "cell_type": "code",
   "source": [
    "fig = plt.figure()\n",
    "for i in range(6):\n",
    "\tplt.subplot(2,3,i+1)\n",
    "\tplt.tight_layout()\n",
    "\tplt.imshow(example_data[i][0], cmap='gray', interpolation='none')\n",
    "\tplt.title(\"Label: {}\".format(example_targets[i]))\n",
    "\tplt.xticks([])\n",
    "\tplt.yticks([])\n",
    "fig"
   ],
   "id": "6a0f2eb5cc4e1ecd",
   "outputs": [
    {
     "data": {
      "text/plain": [
       "<Figure size 640x480 with 6 Axes>"
      ],
      "image/png": "[encoded data removed]"
     },
     "execution_count": 32,
     "metadata": {},
     "output_type": "execute_result"
    },
    {
     "data": {
      "text/plain": [
       "<Figure size 640x480 with 6 Axes>"
      ],
      "image/png": "[encoded data removed]"
     },
     "metadata": {},
     "output_type": "display_data"
    }
   ],
   "execution_count": 32
  },
  {
   "metadata": {},
   "cell_type": "markdown",
   "source": "### MODEL",
   "id": "c96125733ecd27c5"
  },
  {
   "metadata": {
    "ExecuteTime": {
     "end_time": "2024-09-16T19:39:51.623360Z",
     "start_time": "2024-09-16T19:39:51.604383Z"
    }
   },
   "cell_type": "code",
   "source": [
    "class Net(nn.Module):\n",
    "\tdef __init__(self):\n",
    "\t\tsuper(Net, self).__init__()\n",
    "\t\tself.conv1 = nn.Conv2d(1, 10, kernel_size=5)\n",
    "\t\tself.conv2 = nn.Conv2d(10, 20, kernel_size=5)\n",
    "\t\tself.conv2_drop = nn.Dropout2d()\n",
    "\t\tself.fc1 = nn.Linear(320, 50)\n",
    "\t\tself.fc2 = nn.Linear(50, 10)\n",
    "\n",
    "\tdef forward(self, x):\n",
    "\t\tx = F.relu(F.max_pool2d(self.conv1(x), 2))\n",
    "\t\tx = F.relu(F.max_pool2d(self.conv2_drop(self.conv2(x)), 2))\n",
    "\t\tx = x.view(-1, 320)\n",
    "\t\tx = F.relu(self.fc1(x))\n",
    "\t\tx = F.dropout(x, training=self.training)\n",
    "\t\tx = self.fc2(x)\n",
    "\t\treturn F.log_softmax(x, 1)"
   ],
   "id": "e4c224e5d36b5647",
   "outputs": [],
   "execution_count": 33
  },
  {
   "metadata": {
    "ExecuteTime": {
     "end_time": "2024-09-16T19:39:51.676527Z",
     "start_time": "2024-09-16T19:39:51.659955Z"
    }
   },
   "cell_type": "code",
   "source": [
    "# init the model\n",
    "network = Net()\n",
    "optimizer = optim.SGD(network.parameters(), lr=learning_rate, momentum=momentum)"
   ],
   "id": "90a9443adadfeb25",
   "outputs": [],
   "execution_count": 34
  },
  {
   "metadata": {},
   "cell_type": "markdown",
   "source": "#### SOME LOGGING VARIABLES",
   "id": "fcf21075e8ac0cec"
  },
  {
   "metadata": {
    "ExecuteTime": {
     "end_time": "2024-09-16T19:39:51.706758Z",
     "start_time": "2024-09-16T19:39:51.683088Z"
    }
   },
   "cell_type": "code",
   "source": [
    "train_losses = []\n",
    "train_counter = []\n",
    "test_losses = []\n",
    "test_counter = [i*len(train_loader.dataset) for i in range(n_epochs + 1)]"
   ],
   "id": "d6280b42365e7d08",
   "outputs": [],
   "execution_count": 35
  },
  {
   "metadata": {},
   "cell_type": "markdown",
   "source": "### TRAINING AND TESTING METHOD",
   "id": "11e96b33a05d852c"
  },
  {
   "metadata": {
    "ExecuteTime": {
     "end_time": "2024-09-16T19:39:51.724846Z",
     "start_time": "2024-09-16T19:39:51.711887Z"
    }
   },
   "cell_type": "code",
   "source": [
    "def train(epoch):\n",
    "\tnetwork.train()\n",
    "\tfor batch_idx, (data, target) in enumerate(train_loader):\n",
    "\t\toptimizer.zero_grad()\n",
    "\t\toutput = network(data)\n",
    "\t\tloss = F.nll_loss(output, target)\n",
    "\t\tloss.backward()\n",
    "\t\toptimizer.step()\n",
    "\t\tif batch_idx % log_interval == 0:\n",
    "\t\t\tprint('Train Epoch: {} [{}/{} ({:.0f}%)]\\tLoss: {:.6f}'.format(\n",
    "\t\t\t\tepoch, batch_idx * len(data), len(train_loader.dataset),\n",
    "\t\t\t\t       100. * batch_idx / len(train_loader), loss.item()))\n",
    "\t\t\ttrain_losses.append(loss.item())\n",
    "\t\t\ttrain_counter.append(\n",
    "\t\t\t\t(batch_idx*64) + ((epoch-1)*len(train_loader.dataset)))\n",
    "\t\t\ttorch.save(network.state_dict(), './checkpoints/MNIST-model.pth')\n",
    "\t\t\ttorch.save(optimizer.state_dict(), './checkpoints/MNIST-optimizer.pth')\n",
    "\n",
    "\n",
    "def test():\n",
    "\tnetwork.eval()\n",
    "\ttest_loss = 0\n",
    "\tcorrect = 0\n",
    "\twith torch.no_grad():\n",
    "\t\tfor data, target in test_loader:\n",
    "\t\t\toutput = network(data)\n",
    "\t\t\ttest_loss += F.nll_loss(output, target, size_average=False).item()\n",
    "\t\t\tpred = output.data.max(1, keepdim=True)[1]\n",
    "\t\t\tcorrect += pred.eq(target.data.view_as(pred)).sum()\n",
    "\ttest_loss /= len(test_loader.dataset)\n",
    "\ttest_losses.append(test_loss)\n",
    "\tprint('\\nTest set: Avg. loss: {:.4f}, Accuracy: {}/{} ({:.0f}%)\\n'.format(\n",
    "\t\ttest_loss, correct, len(test_loader.dataset),\n",
    "\t\t100. * correct / len(test_loader.dataset)))"
   ],
   "id": "c2cef71c6119afe6",
   "outputs": [],
   "execution_count": 36
  },
  {
   "metadata": {},
   "cell_type": "markdown",
   "source": "### MODEL TRAINING",
   "id": "39f6bf2a77fbbf6e"
  },
  {
   "metadata": {
    "ExecuteTime": {
     "end_time": "2024-09-16T19:41:01.824364Z",
     "start_time": "2024-09-16T19:39:51.730163Z"
    }
   },
   "cell_type": "code",
   "source": [
    "test()\n",
    "for epoch in range(1, n_epochs + 1):\n",
    "\ttrain(epoch)\n",
    "\ttest()"
   ],
   "id": "742a6d5654cc5c15",
   "outputs": [
    {
     "name": "stderr",
     "output_type": "stream",
     "text": [
      "/usr/local/anaconda3/envs/dl-env/lib/python3.9/site-packages/torch/nn/_reduction.py:42: UserWarning: size_average and reduce args will be deprecated, please use reduction='sum' instead.\n",
      "  warnings.warn(warning.format(ret))\n"
     ]
    },
    {
     "name": "stdout",
     "output_type": "stream",
     "text": [
      "\n",
      "Test set: Avg. loss: 2.3096, Accuracy: 924/10000 (9%)\n",
      "\n",
      "Train Epoch: 1 [0/60000 (0%)]\tLoss: 2.313179\n",
      "Train Epoch: 1 [4096/60000 (7%)]\tLoss: 2.214404\n",
      "Train Epoch: 1 [8192/60000 (14%)]\tLoss: 1.548591\n",
      "Train Epoch: 1 [12288/60000 (20%)]\tLoss: 1.129882\n",
      "Train Epoch: 1 [16384/60000 (27%)]\tLoss: 1.073255\n",
      "Train Epoch: 1 [20480/60000 (34%)]\tLoss: 0.582403\n",
      "Train Epoch: 1 [24576/60000 (41%)]\tLoss: 0.983538\n",
      "Train Epoch: 1 [28672/60000 (48%)]\tLoss: 0.544155\n",
      "Train Epoch: 1 [32768/60000 (55%)]\tLoss: 0.687503\n",
      "Train Epoch: 1 [36864/60000 (61%)]\tLoss: 0.730152\n",
      "Train Epoch: 1 [40960/60000 (68%)]\tLoss: 0.337059\n",
      "Train Epoch: 1 [45056/60000 (75%)]\tLoss: 0.420433\n",
      "Train Epoch: 1 [49152/60000 (82%)]\tLoss: 0.834110\n",
      "Train Epoch: 1 [53248/60000 (89%)]\tLoss: 0.542384\n",
      "Train Epoch: 1 [57344/60000 (96%)]\tLoss: 0.466105\n",
      "\n",
      "Test set: Avg. loss: 0.1862, Accuracy: 9440/10000 (94%)\n",
      "\n",
      "Train Epoch: 2 [0/60000 (0%)]\tLoss: 0.447946\n",
      "Train Epoch: 2 [4096/60000 (7%)]\tLoss: 0.211271\n",
      "Train Epoch: 2 [8192/60000 (14%)]\tLoss: 0.462496\n",
      "Train Epoch: 2 [12288/60000 (20%)]\tLoss: 0.388663\n",
      "Train Epoch: 2 [16384/60000 (27%)]\tLoss: 0.456902\n",
      "Train Epoch: 2 [20480/60000 (34%)]\tLoss: 0.352474\n",
      "Train Epoch: 2 [24576/60000 (41%)]\tLoss: 0.342356\n",
      "Train Epoch: 2 [28672/60000 (48%)]\tLoss: 0.384544\n",
      "Train Epoch: 2 [32768/60000 (55%)]\tLoss: 0.355193\n",
      "Train Epoch: 2 [36864/60000 (61%)]\tLoss: 0.516708\n",
      "Train Epoch: 2 [40960/60000 (68%)]\tLoss: 0.476260\n",
      "Train Epoch: 2 [45056/60000 (75%)]\tLoss: 0.460991\n",
      "Train Epoch: 2 [49152/60000 (82%)]\tLoss: 0.390516\n",
      "Train Epoch: 2 [53248/60000 (89%)]\tLoss: 0.241774\n",
      "Train Epoch: 2 [57344/60000 (96%)]\tLoss: 0.187650\n",
      "\n",
      "Test set: Avg. loss: 0.1162, Accuracy: 9637/10000 (96%)\n",
      "\n",
      "Train Epoch: 3 [0/60000 (0%)]\tLoss: 0.207197\n",
      "Train Epoch: 3 [4096/60000 (7%)]\tLoss: 0.540341\n",
      "Train Epoch: 3 [8192/60000 (14%)]\tLoss: 0.334136\n",
      "Train Epoch: 3 [12288/60000 (20%)]\tLoss: 0.326236\n",
      "Train Epoch: 3 [16384/60000 (27%)]\tLoss: 0.229219\n",
      "Train Epoch: 3 [20480/60000 (34%)]\tLoss: 0.186942\n",
      "Train Epoch: 3 [24576/60000 (41%)]\tLoss: 0.164851\n",
      "Train Epoch: 3 [28672/60000 (48%)]\tLoss: 0.184573\n",
      "Train Epoch: 3 [32768/60000 (55%)]\tLoss: 0.270363\n",
      "Train Epoch: 3 [36864/60000 (61%)]\tLoss: 0.341001\n",
      "Train Epoch: 3 [40960/60000 (68%)]\tLoss: 0.442706\n",
      "Train Epoch: 3 [45056/60000 (75%)]\tLoss: 0.296439\n",
      "Train Epoch: 3 [49152/60000 (82%)]\tLoss: 0.271968\n",
      "Train Epoch: 3 [53248/60000 (89%)]\tLoss: 0.255967\n",
      "Train Epoch: 3 [57344/60000 (96%)]\tLoss: 0.160831\n",
      "\n",
      "Test set: Avg. loss: 0.0988, Accuracy: 9693/10000 (97%)\n",
      "\n"
     ]
    }
   ],
   "execution_count": 37
  },
  {
   "metadata": {},
   "cell_type": "markdown",
   "source": "#### EVALUATION PLOTS",
   "id": "ac02a69b45427a29"
  },
  {
   "metadata": {
    "ExecuteTime": {
     "end_time": "2024-09-16T19:41:28.779621Z",
     "start_time": "2024-09-16T19:41:28.332254Z"
    }
   },
   "cell_type": "code",
   "source": [
    "fig = plt.figure()\n",
    "plt.plot(train_counter, train_losses, color='blue')\n",
    "plt.scatter(test_counter, test_losses, color='red')\n",
    "plt.legend(['Train Loss', 'Test Loss'], loc='upper right')\n",
    "plt.xlabel('number of training examples seen')\n",
    "plt.ylabel('negative log likelihood loss')\n",
    "# fig"
   ],
   "id": "dd9d9a6c931642b5",
   "outputs": [
    {
     "data": {
      "text/plain": [
       "Text(0, 0.5, 'negative log likelihood loss')"
      ]
     },
     "execution_count": 39,
     "metadata": {},
     "output_type": "execute_result"
    },
    {
     "data": {
      "text/plain": [
       "<Figure size 640x480 with 1 Axes>"
      ],
      "image/png": "[encoded data removed]"
     },
     "metadata": {},
     "output_type": "display_data"
    }
   ],
   "execution_count": 39
  },
  {
   "metadata": {},
   "cell_type": "markdown",
   "source": "## MORE EPOCH NEEDED",
   "id": "944498d196e517f2"
  }
 ],
 "metadata": {
  "kernelspec": {
   "display_name": "Python 3",
   "language": "python",
   "name": "python3"
  },
  "language_info": {
   "codemirror_mode": {
    "name": "ipython",
    "version": 2
   },
   "file_extension": ".py",
   "mimetype": "text/x-python",
   "name": "python",
   "nbconvert_exporter": "python",
   "pygments_lexer": "ipython2",
   "version": "2.7.6"
  }
 },
 "nbformat": 4,
 "nbformat_minor": 5
}
