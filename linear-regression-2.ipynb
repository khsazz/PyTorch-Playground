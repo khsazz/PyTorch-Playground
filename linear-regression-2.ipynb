{
 "cells": [
  {
   "metadata": {
    "ExecuteTime": {
     "end_time": "2024-09-16T18:47:27.176956Z",
     "start_time": "2024-09-16T18:47:22.269504Z"
    }
   },
   "cell_type": "code",
   "source": [
    "# imports\n",
    "import torch\n",
    "import torch.nn as nn\n",
    "import numpy as np\n",
    "import matplotlib.pyplot as plt"
   ],
   "id": "a90d05785a67cf07",
   "outputs": [],
   "execution_count": 1
  },
  {
   "metadata": {
    "ExecuteTime": {
     "end_time": "2024-09-16T18:50:01.829838Z",
     "start_time": "2024-09-16T18:50:01.818312Z"
    }
   },
   "cell_type": "code",
   "source": [
    "# Hyper-parameters\n",
    "input_size = 1\n",
    "output_size = 1\n",
    "num_epochs = 100\n",
    "learning_rate = 0.001"
   ],
   "id": "e641fa74f506f6eb",
   "outputs": [],
   "execution_count": 7
  },
  {
   "metadata": {},
   "cell_type": "markdown",
   "source": "### DATASET",
   "id": "8c5428a740277cd2"
  },
  {
   "metadata": {
    "ExecuteTime": {
     "end_time": "2024-09-16T18:48:01.521641Z",
     "start_time": "2024-09-16T18:48:01.510553Z"
    }
   },
   "cell_type": "code",
   "source": [
    "\n",
    "x_train = np.array([[3.3], [4.4], [5.5], [6.71], [6.93], [4.168],\n",
    "                    [9.779], [6.182], [7.59], [2.167], [7.042],\n",
    "                    [10.791], [5.313], [7.997], [3.1]], dtype=np.float32)\n",
    "\n",
    "y_train = np.array([[1.7], [2.76], [2.09], [3.19], [1.694], [1.573],\n",
    "                    [3.366], [2.596], [2.53], [1.221], [2.827],\n",
    "                    [3.465], [1.65], [2.904], [1.3]], dtype=np.float32)"
   ],
   "id": "6d0565249f5a0004",
   "outputs": [],
   "execution_count": 3
  },
  {
   "metadata": {},
   "cell_type": "markdown",
   "source": "### MODEL",
   "id": "29dea8cec504cd90"
  },
  {
   "metadata": {
    "ExecuteTime": {
     "end_time": "2024-09-16T18:48:09.682635Z",
     "start_time": "2024-09-16T18:48:09.673782Z"
    }
   },
   "cell_type": "code",
   "source": [
    "# Linear regression model\n",
    "model = nn.Linear(input_size, output_size)\n",
    "\n",
    "# Loss and optimizer\n",
    "criterion = nn.MSELoss()\n",
    "optimizer = torch.optim.SGD(model.parameters(), lr=learning_rate)"
   ],
   "id": "a42a5a4d04b0a7fa",
   "outputs": [],
   "execution_count": 4
  },
  {
   "metadata": {},
   "cell_type": "markdown",
   "source": "### TRAINNING",
   "id": "ffba52bc57a590ea"
  },
  {
   "cell_type": "code",
   "id": "initial_id",
   "metadata": {
    "collapsed": true,
    "ExecuteTime": {
     "end_time": "2024-09-16T18:50:10.645686Z",
     "start_time": "2024-09-16T18:50:10.561454Z"
    }
   },
   "source": [
    "\n",
    "# Train the model\n",
    "for epoch in range(num_epochs):\n",
    "\t# Convert numpy arrays to torch tensors\n",
    "\tinputs = torch.from_numpy(x_train)\n",
    "\ttargets = torch.from_numpy(y_train)\n",
    "\n",
    "\t# Forward pass\n",
    "\toutputs = model(inputs)\n",
    "\tloss = criterion(outputs, targets)\n",
    "\n",
    "\t# Backward and optimize\n",
    "\toptimizer.zero_grad()\n",
    "\tloss.backward()\n",
    "\toptimizer.step()\n",
    "\n",
    "\tif (epoch+1) % 5 == 0:\n",
    "\t\tprint ('Epoch [{}/{}], Loss: {:.4f}'.format(epoch+1, num_epochs, loss.item()))\n",
    "\n"
   ],
   "outputs": [
    {
     "name": "stdout",
     "output_type": "stream",
     "text": [
      "Epoch [5/100], Loss: 0.2033\n",
      "Epoch [10/100], Loss: 0.2032\n",
      "Epoch [15/100], Loss: 0.2031\n",
      "Epoch [20/100], Loss: 0.2030\n",
      "Epoch [25/100], Loss: 0.2029\n",
      "Epoch [30/100], Loss: 0.2028\n",
      "Epoch [35/100], Loss: 0.2027\n",
      "Epoch [40/100], Loss: 0.2027\n",
      "Epoch [45/100], Loss: 0.2026\n",
      "Epoch [50/100], Loss: 0.2025\n",
      "Epoch [55/100], Loss: 0.2024\n",
      "Epoch [60/100], Loss: 0.2023\n",
      "Epoch [65/100], Loss: 0.2022\n",
      "Epoch [70/100], Loss: 0.2021\n",
      "Epoch [75/100], Loss: 0.2021\n",
      "Epoch [80/100], Loss: 0.2020\n",
      "Epoch [85/100], Loss: 0.2019\n",
      "Epoch [90/100], Loss: 0.2018\n",
      "Epoch [95/100], Loss: 0.2017\n",
      "Epoch [100/100], Loss: 0.2016\n"
     ]
    }
   ],
   "execution_count": 8
  },
  {
   "metadata": {},
   "cell_type": "markdown",
   "source": "### PLOTTING",
   "id": "7b22dc1de8f5dfb3"
  },
  {
   "metadata": {
    "ExecuteTime": {
     "end_time": "2024-09-16T19:02:49.680914Z",
     "start_time": "2024-09-16T19:02:49.277306Z"
    }
   },
   "cell_type": "code",
   "source": [
    "# Plot the graph\n",
    "predicted = model(torch.from_numpy(x_train)).detach().numpy()\n",
    "plt.plot(x_train, y_train, 'ro', label='Original data')\n",
    "plt.plot(x_train, predicted, label='Fitted line')\n",
    "plt.legend()\n",
    "plt.show()\n",
    "\n",
    "# Save the model checkpoint\n",
    "torch.save(model.state_dict(), './checkpoints/linear-2-model.ckpt')"
   ],
   "id": "65bbbce616456989",
   "outputs": [
    {
     "data": {
      "text/plain": [
       "<Figure size 640x480 with 1 Axes>"
      ],
      "image/png": "[encoded data removed]"
     },
     "metadata": {},
     "output_type": "display_data"
    }
   ],
   "execution_count": 11
  }
 ],
 "metadata": {
  "kernelspec": {
   "display_name": "Python 3",
   "language": "python",
   "name": "python3"
  },
  "language_info": {
   "codemirror_mode": {
    "name": "ipython",
    "version": 2
   },
   "file_extension": ".py",
   "mimetype": "text/x-python",
   "name": "python",
   "nbconvert_exporter": "python",
   "pygments_lexer": "ipython2",
   "version": "2.7.6"
  }
 },
 "nbformat": 4,
 "nbformat_minor": 5
}
