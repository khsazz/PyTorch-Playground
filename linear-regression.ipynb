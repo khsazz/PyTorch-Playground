{
 "cells": [
  {
   "metadata": {},
   "cell_type": "markdown",
   "source": [
    "# This is a sample Jupyter Notebook\n",
    "\n",
    "Below is an example of a code cell. \n",
    "Put your cursor into the cell and press Shift+Enter to execute it and select the next one, or click !here goes the icon of the corresponding button in the gutter! button.\n",
    "To debug a cell, press Alt+Shift+Enter, or click !here goes the icon of the corresponding button in the gutter! button.\n",
    "\n",
    "Press Double Shift to search everywhere for classes, files, tool windows, actions, and settings.\n",
    "\n",
    "To learn more about Jupyter Notebooks in PyCharm, see [help](https://www.jetbrains.com/help/pycharm/jupyter-notebook-support.html).\n",
    "For an overview of PyCharm, go to Help -> Learn IDE features or refer to [our documentation](https://www.jetbrains.com/help/pycharm/getting-started.html)."
   ],
   "id": "8a77807f92f26ee"
  },
  {
   "metadata": {
    "ExecuteTime": {
     "end_time": "2024-09-16T15:53:47.146173Z",
     "start_time": "2024-09-16T15:53:47.137191Z"
    }
   },
   "cell_type": "code",
   "source": [
    "import torch\n",
    "import torch.nn as nn\n",
    "import torch.optim as optim\n",
    "import numpy as np\n",
    "import matplotlib.pyplot as plt"
   ],
   "id": "fbc121e30a2defb3",
   "outputs": [],
   "execution_count": 15
  },
  {
   "metadata": {},
   "cell_type": "markdown",
   "source": "### Generate some sample data\n",
   "id": "5081452ea30d90c7"
  },
  {
   "metadata": {
    "ExecuteTime": {
     "end_time": "2024-09-16T15:53:47.218135Z",
     "start_time": "2024-09-16T15:53:47.210028Z"
    }
   },
   "cell_type": "code",
   "source": [
    "X = torch.randn(100, 1)\n",
    "y = 3 * X + 1.5 + torch.randn(100, 1) * 0.1"
   ],
   "id": "6776e8195ae293b6",
   "outputs": [],
   "execution_count": 16
  },
  {
   "metadata": {},
   "cell_type": "markdown",
   "source": "# Define the model",
   "id": "c91861fecac31d5b"
  },
  {
   "metadata": {
    "ExecuteTime": {
     "end_time": "2024-09-16T15:53:47.268321Z",
     "start_time": "2024-09-16T15:53:47.261847Z"
    }
   },
   "cell_type": "code",
   "source": [
    "class LinearRegression(nn.Module):\n",
    "\tdef __init__(self):\n",
    "\t\tsuper(LinearRegression, self).__init__()\n",
    "\t\tself.linear = nn.Linear(1, 1)\n",
    "\n",
    "\tdef forward(self, x):\n",
    "\t\treturn self.linear(x)"
   ],
   "id": "dcb1959ba3c3b1b4",
   "outputs": [],
   "execution_count": 17
  },
  {
   "metadata": {},
   "cell_type": "markdown",
   "source": "# Initialize the model, loss function, and optimizer",
   "id": "f4b93a93cbc7129d"
  },
  {
   "metadata": {
    "ExecuteTime": {
     "end_time": "2024-09-16T15:53:47.327380Z",
     "start_time": "2024-09-16T15:53:47.320587Z"
    }
   },
   "cell_type": "code",
   "source": [
    "model = LinearRegression()\n",
    "criterion = nn.MSELoss()\n",
    "optimizer = optim.SGD(model.parameters(), lr=0.01)"
   ],
   "id": "b2e947a5d4865650",
   "outputs": [],
   "execution_count": 18
  },
  {
   "metadata": {},
   "cell_type": "markdown",
   "source": "# Training loop",
   "id": "3aa0319269b5433e"
  },
  {
   "metadata": {
    "ExecuteTime": {
     "end_time": "2024-09-16T15:53:47.847662Z",
     "start_time": "2024-09-16T15:53:47.365788Z"
    }
   },
   "cell_type": "code",
   "source": [
    "num_epochs = 1000\n",
    "for epoch in range(num_epochs):\n",
    "\t# Forward pass\n",
    "\toutputs = model(X)\n",
    "\tloss = criterion(outputs, y)\n",
    "\n",
    "\t# Backward pass and optimization\n",
    "\toptimizer.zero_grad()\n",
    "\tloss.backward()\n",
    "\toptimizer.step()\n",
    "\n",
    "\tif (epoch+1) % 100 == 0:\n",
    "\t\tprint(f'Epoch [{epoch+1}/{num_epochs}], Loss: {loss.item():.4f}')"
   ],
   "id": "a96faa412b36f42",
   "outputs": [
    {
     "name": "stdout",
     "output_type": "stream",
     "text": [
      "Epoch [100/1000], Loss: 0.2300\n",
      "Epoch [200/1000], Loss: 0.0146\n",
      "Epoch [300/1000], Loss: 0.0115\n",
      "Epoch [400/1000], Loss: 0.0115\n",
      "Epoch [500/1000], Loss: 0.0115\n",
      "Epoch [600/1000], Loss: 0.0115\n",
      "Epoch [700/1000], Loss: 0.0115\n",
      "Epoch [800/1000], Loss: 0.0115\n",
      "Epoch [900/1000], Loss: 0.0115\n",
      "Epoch [1000/1000], Loss: 0.0115\n"
     ]
    }
   ],
   "execution_count": 19
  },
  {
   "metadata": {},
   "cell_type": "markdown",
   "source": "# Plot the results",
   "id": "e8244243e7cb9fc1"
  },
  {
   "metadata": {
    "ExecuteTime": {
     "end_time": "2024-09-16T15:53:48.258850Z",
     "start_time": "2024-09-16T15:53:47.854714Z"
    }
   },
   "cell_type": "code",
   "source": [
    "plt.scatter(X.numpy(), y.numpy(), label='Data')\n",
    "plt.plot(X.numpy(), model(X).detach().numpy(), color='red', label='Fitted Line')\n",
    "plt.legend()\n",
    "plt.show()"
   ],
   "id": "5f97111b50958aa8",
   "outputs": [
    {
     "data": {
      "text/plain": [
       "<Figure size 640x480 with 1 Axes>"
      ],
      "image/png": "[encoded data removed]"
     },
     "metadata": {},
     "output_type": "display_data"
    }
   ],
   "execution_count": 20
  },
  {
   "metadata": {},
   "cell_type": "markdown",
   "source": "# Print the model parameters",
   "id": "54729a967f6e65cf"
  },
  {
   "metadata": {
    "ExecuteTime": {
     "end_time": "2024-09-16T15:53:48.273579Z",
     "start_time": "2024-09-16T15:53:48.264351Z"
    }
   },
   "cell_type": "code",
   "source": [
    "print(f\"Slope: {model.linear.weight.item():.4f}\")\n",
    "print(f\"Intercept: {model.linear.bias.item():.4f}\")"
   ],
   "id": "b90ede02cd074208",
   "outputs": [
    {
     "name": "stdout",
     "output_type": "stream",
     "text": [
      "Slope: 3.0001\n",
      "Intercept: 1.4997\n"
     ]
    }
   ],
   "execution_count": 21
  },
  {
   "metadata": {
    "ExecuteTime": {
     "end_time": "2024-09-16T15:53:48.284275Z",
     "start_time": "2024-09-16T15:53:48.279817Z"
    }
   },
   "cell_type": "code",
   "source": "",
   "id": "c64cbd65b9f974e2",
   "outputs": [],
   "execution_count": 21
  }
 ],
 "metadata": {
  "kernelspec": {
   "display_name": "Python 3",
   "language": "python",
   "name": "python3"
  },
  "language_info": {
   "codemirror_mode": {
    "name": "ipython",
    "version": 2
   },
   "file_extension": ".py",
   "mimetype": "text/x-python",
   "name": "python",
   "nbconvert_exporter": "python",
   "pygments_lexer": "ipython2",
   "version": "2.7.6"
  }
 },
 "nbformat": 4,
 "nbformat_minor": 5
}
